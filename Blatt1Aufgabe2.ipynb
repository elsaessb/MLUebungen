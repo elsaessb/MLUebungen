{
  "nbformat": 4,
  "nbformat_minor": 0,
  "metadata": {
    "kernelspec": {
      "display_name": "Python 3",
      "language": "python",
      "name": "python3"
    },
    "language_info": {
      "codemirror_mode": {
        "name": "ipython",
        "version": 2
      },
      "file_extension": ".py",
      "mimetype": "text/x-python",
      "name": "python",
      "nbconvert_exporter": "python",
      "pygments_lexer": "ipython2",
      "version": "2.7.6"
    },
    "colab": {
      "name": "Blatt1Aufgabe2.ipynb",
      "provenance": []
    }
  },
  "cells": [
    {
      "cell_type": "markdown",
      "metadata": {
        "collapsed": false,
        "pycharm": {
          "name": "#%% md\n"
        },
        "id": "rfAaGQQEKV7G"
      },
      "source": [
        "## Aufgabe 2"
      ]
    },
    {
      "cell_type": "markdown",
      "metadata": {
        "id": "RCH0MFLyKhiT"
      },
      "source": [
        "a) Laden Sie die Datenbank als zip-File aus Moodle herunter und lesen Sie dieses File direkt in ein neues Notebook ein. Die bisher verwendete Pandas-Methode read_csv() funktioniert für JSON-Files leider nicht. Das heruntergeladene File wird stattdessen mithilfe des Py- thonmoduls zipfile entpackt und dem Python-Befehl open() eingelesen. Die Umwandlung des JSON-Formates in ein geeignetes Python-Format erfolgt mit einem weiteren Modul der Python-Standardlibrary, json, hier mithilfe der Funktion json.load(). Lesen Sie dazu die zugehörigen, auf dem Web bzw. Stackoverflow verfügbaren Anleitungen.\n"
      ]
    },
    {
      "cell_type": "code",
      "metadata": {
        "id": "rADruFFjP-zd"
      },
      "source": [
        "from google.colab import drive\n",
        "drive.mount('/content/drive')"
      ],
      "execution_count": null,
      "outputs": []
    },
    {
      "cell_type": "code",
      "metadata": {
        "pycharm": {
          "name": "#%%\n"
        },
        "id": "fo9x-FlnKV7J",
        "outputId": "6340f56e-4e33-4268-ba64-462cb58ca585",
        "colab": {
          "base_uri": "https://localhost:8080/"
        }
      },
      "source": [
        "!pip install version-information\n",
        "%load_ext version_information\n",
        "\n",
        "import zipfile\n",
        "import json\n",
        "\n",
        "\n",
        "#filename_zip = \"foods-2011-10-03.json.zip\"\n",
        "filename_json = \"/content/drive/MyDrive/Studium/ML/foods-2011-10-03.json\"\n",
        "\n",
        "#archive = zipfile.ZipFile(filename_zip, 'r')\n",
        "file = open(filename_json,'r')\n",
        "\n",
        "data = json.load(file)"
      ],
      "execution_count": 10,
      "outputs": [
        {
          "output_type": "stream",
          "name": "stdout",
          "text": [
            "Requirement already satisfied: version-information in /usr/local/lib/python3.7/dist-packages (1.0.4)\n",
            "The version_information extension is already loaded. To reload it, use:\n",
            "  %reload_ext version_information\n"
          ]
        }
      ]
    },
    {
      "cell_type": "code",
      "metadata": {
        "pycharm": {
          "name": "#%%\n"
        },
        "id": "_gmWbQoEKV7L",
        "outputId": "ebb893a1-71b5-4e96-9249-80888a2414dc",
        "colab": {
          "base_uri": "https://localhost:8080/"
        }
      },
      "source": [
        "len(data)"
      ],
      "execution_count": 11,
      "outputs": [
        {
          "output_type": "execute_result",
          "data": {
            "text/plain": [
              "6636"
            ]
          },
          "metadata": {},
          "execution_count": 11
        }
      ]
    },
    {
      "cell_type": "markdown",
      "metadata": {
        "collapsed": false,
        "pycharm": {
          "name": "#%% md\n"
        },
        "id": "Q4ASblxHKV7L"
      },
      "source": [
        "description und group kommen in beiden Dicts vor"
      ]
    },
    {
      "cell_type": "code",
      "metadata": {
        "pycharm": {
          "name": "#%%\n"
        },
        "id": "vGgLr4B7KV7L",
        "outputId": "74120a7b-9329-4092-a03a-31c48820ece0",
        "colab": {
          "base_uri": "https://localhost:8080/"
        }
      },
      "source": [
        "data[500].keys()\n"
      ],
      "execution_count": 12,
      "outputs": [
        {
          "output_type": "execute_result",
          "data": {
            "text/plain": [
              "dict_keys(['id', 'description', 'tags', 'manufacturer', 'group', 'portions', 'nutrients'])"
            ]
          },
          "metadata": {},
          "execution_count": 12
        }
      ]
    },
    {
      "cell_type": "code",
      "metadata": {
        "pycharm": {
          "name": "#%%\n"
        },
        "id": "_2KuBITTKV7M",
        "outputId": "12dda072-4962-4e68-cff8-d08a76483f25",
        "colab": {
          "base_uri": "https://localhost:8080/"
        }
      },
      "source": [
        "data[500].get(\"nutrients\")\n"
      ],
      "execution_count": 13,
      "outputs": [
        {
          "output_type": "execute_result",
          "data": {
            "text/plain": [
              "[{'description': 'Protein',\n",
              "  'group': 'Composition',\n",
              "  'units': 'g',\n",
              "  'value': 14.6},\n",
              " {'description': 'Total lipid (fat)',\n",
              "  'group': 'Composition',\n",
              "  'units': 'g',\n",
              "  'value': 4.7},\n",
              " {'description': 'Carbohydrate, by difference',\n",
              "  'group': 'Composition',\n",
              "  'units': 'g',\n",
              "  'value': 23.5},\n",
              " {'description': 'Ash', 'group': 'Other', 'units': 'g', 'value': 54.7},\n",
              " {'description': 'Energy', 'group': 'Energy', 'units': 'kcal', 'value': 198.0},\n",
              " {'description': 'Water', 'group': 'Composition', 'units': 'g', 'value': 2.5},\n",
              " {'description': 'Energy', 'group': 'Energy', 'units': 'kJ', 'value': 828.0},\n",
              " {'description': 'Sugars, total',\n",
              "  'group': 'Composition',\n",
              "  'units': 'g',\n",
              "  'value': 0.0},\n",
              " {'description': 'Fiber, total dietary',\n",
              "  'group': 'Composition',\n",
              "  'units': 'g',\n",
              "  'value': 0.0},\n",
              " {'description': 'Calcium, Ca',\n",
              "  'group': 'Elements',\n",
              "  'units': 'mg',\n",
              "  'value': 190.0},\n",
              " {'description': 'Iron, Fe',\n",
              "  'group': 'Elements',\n",
              "  'units': 'mg',\n",
              "  'value': 1.87},\n",
              " {'description': 'Magnesium, Mg',\n",
              "  'group': 'Elements',\n",
              "  'units': 'mg',\n",
              "  'value': 56.0},\n",
              " {'description': 'Phosphorus, P',\n",
              "  'group': 'Elements',\n",
              "  'units': 'mg',\n",
              "  'value': 191.0},\n",
              " {'description': 'Potassium, K',\n",
              "  'group': 'Elements',\n",
              "  'units': 'mg',\n",
              "  'value': 374.0},\n",
              " {'description': 'Sodium, Na',\n",
              "  'group': 'Elements',\n",
              "  'units': 'mg',\n",
              "  'value': 24000.0},\n",
              " {'description': 'Zinc, Zn', 'group': 'Elements', 'units': 'mg', 'value': 0.2},\n",
              " {'description': 'Copper, Cu',\n",
              "  'group': 'Elements',\n",
              "  'units': 'mg',\n",
              "  'value': 0.0},\n",
              " {'description': 'Manganese, Mn',\n",
              "  'group': 'Elements',\n",
              "  'units': 'mg',\n",
              "  'value': 0.377},\n",
              " {'description': 'Selenium, Se',\n",
              "  'group': 'Elements',\n",
              "  'units': 'mcg',\n",
              "  'value': 27.9},\n",
              " {'description': 'Vitamin A, IU',\n",
              "  'group': 'Vitamins',\n",
              "  'units': 'IU',\n",
              "  'value': 2.0},\n",
              " {'description': 'Retinol', 'group': 'Vitamins', 'units': 'mcg', 'value': 0.0},\n",
              " {'description': 'Vitamin A, RAE',\n",
              "  'group': 'Vitamins',\n",
              "  'units': 'mcg_RAE',\n",
              "  'value': 0.0},\n",
              " {'description': 'Carotene, beta',\n",
              "  'group': 'Vitamins',\n",
              "  'units': 'mcg',\n",
              "  'value': 0.0},\n",
              " {'description': 'Carotene, alpha',\n",
              "  'group': 'Vitamins',\n",
              "  'units': 'mcg',\n",
              "  'value': 0.0},\n",
              " {'description': 'Vitamin E (alpha-tocopherol)',\n",
              "  'group': 'Vitamins',\n",
              "  'units': 'mg',\n",
              "  'value': 0.09},\n",
              " {'description': 'Cryptoxanthin, beta',\n",
              "  'group': 'Vitamins',\n",
              "  'units': 'mcg',\n",
              "  'value': 0.0},\n",
              " {'description': 'Lycopene',\n",
              "  'group': 'Vitamins',\n",
              "  'units': 'mcg',\n",
              "  'value': 0.0},\n",
              " {'description': 'Lutein + zeaxanthin',\n",
              "  'group': 'Vitamins',\n",
              "  'units': 'mcg',\n",
              "  'value': 0.0},\n",
              " {'description': 'Vitamin C, total ascorbic acid',\n",
              "  'group': 'Vitamins',\n",
              "  'units': 'mg',\n",
              "  'value': 1.0},\n",
              " {'description': 'Thiamin', 'group': 'Vitamins', 'units': 'mg', 'value': 0.19},\n",
              " {'description': 'Riboflavin',\n",
              "  'group': 'Vitamins',\n",
              "  'units': 'mg',\n",
              "  'value': 0.38},\n",
              " {'description': 'Niacin', 'group': 'Vitamins', 'units': 'mg', 'value': 3.9},\n",
              " {'description': 'Pantothenic acid',\n",
              "  'group': 'Vitamins',\n",
              "  'units': 'mg',\n",
              "  'value': 0.6},\n",
              " {'description': 'Vitamin B-6',\n",
              "  'group': 'Vitamins',\n",
              "  'units': 'mg',\n",
              "  'value': 0.1},\n",
              " {'description': 'Folate, total',\n",
              "  'group': 'Vitamins',\n",
              "  'units': 'mcg',\n",
              "  'value': 32.0},\n",
              " {'description': 'Vitamin B-12',\n",
              "  'group': 'Vitamins',\n",
              "  'units': 'mcg',\n",
              "  'value': 0.3},\n",
              " {'description': 'Vitamin K (phylloquinone)',\n",
              "  'group': 'Vitamins',\n",
              "  'units': 'mcg',\n",
              "  'value': 0.0},\n",
              " {'description': 'Folic acid',\n",
              "  'group': 'Vitamins',\n",
              "  'units': 'mcg',\n",
              "  'value': 0.0},\n",
              " {'description': 'Folate, food',\n",
              "  'group': 'Vitamins',\n",
              "  'units': 'mcg',\n",
              "  'value': 32.0},\n",
              " {'description': 'Folate, DFE',\n",
              "  'group': 'Vitamins',\n",
              "  'units': 'mcg_DFE',\n",
              "  'value': 32.0},\n",
              " {'description': 'Cholesterol',\n",
              "  'group': 'Other',\n",
              "  'units': 'mg',\n",
              "  'value': 13.0},\n",
              " {'description': 'Fatty acids, total saturated',\n",
              "  'group': 'Other',\n",
              "  'units': 'g',\n",
              "  'value': 1.2},\n",
              " {'description': 'Fatty acids, total monounsaturated',\n",
              "  'group': 'Other',\n",
              "  'units': 'g',\n",
              "  'value': 1.92},\n",
              " {'description': 'Fatty acids, total polyunsaturated',\n",
              "  'group': 'Other',\n",
              "  'units': 'g',\n",
              "  'value': 1.62}]"
            ]
          },
          "metadata": {},
          "execution_count": 13
        }
      ]
    },
    {
      "cell_type": "markdown",
      "metadata": {
        "collapsed": false,
        "pycharm": {
          "name": "#%% md\n"
        },
        "id": "CEiyg_slKV7M"
      },
      "source": [
        "Kopiere die Spalten **description**, **group**, **id** und **manufacturer** aus den Daten in ein eigenes DataFrame **info**"
      ]
    },
    {
      "cell_type": "code",
      "metadata": {
        "pycharm": {
          "name": "#%%\n"
        },
        "id": "JAaKnmuSKV7M",
        "outputId": "b2532536-86cc-432b-f736-4f99e79395ff",
        "colab": {
          "base_uri": "https://localhost:8080/",
          "height": 206
        }
      },
      "source": [
        "import pandas as pd\n",
        "import numpy as np\n",
        "info = pd.DataFrame(data, columns=[\"description\",\"group\",\"id\",\"manufacturer\"])\n",
        "info.head()"
      ],
      "execution_count": 14,
      "outputs": [
        {
          "output_type": "execute_result",
          "data": {
            "text/html": [
              "<div>\n",
              "<style scoped>\n",
              "    .dataframe tbody tr th:only-of-type {\n",
              "        vertical-align: middle;\n",
              "    }\n",
              "\n",
              "    .dataframe tbody tr th {\n",
              "        vertical-align: top;\n",
              "    }\n",
              "\n",
              "    .dataframe thead th {\n",
              "        text-align: right;\n",
              "    }\n",
              "</style>\n",
              "<table border=\"1\" class=\"dataframe\">\n",
              "  <thead>\n",
              "    <tr style=\"text-align: right;\">\n",
              "      <th></th>\n",
              "      <th>description</th>\n",
              "      <th>group</th>\n",
              "      <th>id</th>\n",
              "      <th>manufacturer</th>\n",
              "    </tr>\n",
              "  </thead>\n",
              "  <tbody>\n",
              "    <tr>\n",
              "      <th>0</th>\n",
              "      <td>Cheese, caraway</td>\n",
              "      <td>Dairy and Egg Products</td>\n",
              "      <td>1008</td>\n",
              "      <td></td>\n",
              "    </tr>\n",
              "    <tr>\n",
              "      <th>1</th>\n",
              "      <td>Cheese, cheddar</td>\n",
              "      <td>Dairy and Egg Products</td>\n",
              "      <td>1009</td>\n",
              "      <td></td>\n",
              "    </tr>\n",
              "    <tr>\n",
              "      <th>2</th>\n",
              "      <td>Cheese, edam</td>\n",
              "      <td>Dairy and Egg Products</td>\n",
              "      <td>1018</td>\n",
              "      <td></td>\n",
              "    </tr>\n",
              "    <tr>\n",
              "      <th>3</th>\n",
              "      <td>Cheese, feta</td>\n",
              "      <td>Dairy and Egg Products</td>\n",
              "      <td>1019</td>\n",
              "      <td></td>\n",
              "    </tr>\n",
              "    <tr>\n",
              "      <th>4</th>\n",
              "      <td>Cheese, mozzarella, part skim milk</td>\n",
              "      <td>Dairy and Egg Products</td>\n",
              "      <td>1028</td>\n",
              "      <td></td>\n",
              "    </tr>\n",
              "  </tbody>\n",
              "</table>\n",
              "</div>"
            ],
            "text/plain": [
              "                          description  ... manufacturer\n",
              "0                     Cheese, caraway  ...             \n",
              "1                     Cheese, cheddar  ...             \n",
              "2                        Cheese, edam  ...             \n",
              "3                        Cheese, feta  ...             \n",
              "4  Cheese, mozzarella, part skim milk  ...             \n",
              "\n",
              "[5 rows x 4 columns]"
            ]
          },
          "metadata": {},
          "execution_count": 14
        }
      ]
    },
    {
      "cell_type": "markdown",
      "metadata": {
        "collapsed": false,
        "pycharm": {
          "name": "#%% md\n"
        },
        "id": "seSLkAgQKV7N"
      },
      "source": [
        "Array mit einzelnen DataFrames von Nutrients erstellen."
      ]
    },
    {
      "cell_type": "code",
      "metadata": {
        "pycharm": {
          "name": "#%%\n"
        },
        "id": "dXuaX92wKV7O",
        "outputId": "04e5968e-c1c3-4c45-c4d4-6fe8d531a147",
        "colab": {
          "base_uri": "https://localhost:8080/"
        }
      },
      "source": [
        "nutrients_list = []\n",
        "index = 0\n",
        "for elem in data:\n",
        "    data_frame = pd.DataFrame(elem.get(\"nutrients\"))\n",
        "    head = [elem.get(\"id\")] * len(data_frame)\n",
        "    data_frame[\"id\"] = head\n",
        "    nutrients_list.append(data_frame)\n",
        "\n",
        "nutrients = np.asarray(nutrients_list, dtype=object)\n",
        "print(nutrients[1].head())"
      ],
      "execution_count": 15,
      "outputs": [
        {
          "output_type": "stream",
          "name": "stdout",
          "text": [
            "    value units                  description        group    id\n",
            "0   24.90     g                      Protein  Composition  1009\n",
            "1   33.14     g            Total lipid (fat)  Composition  1009\n",
            "2    1.28     g  Carbohydrate, by difference  Composition  1009\n",
            "3    3.93     g                          Ash        Other  1009\n",
            "4  403.00  kcal                       Energy       Energy  1009\n"
          ]
        }
      ]
    },
    {
      "cell_type": "markdown",
      "metadata": {
        "collapsed": false,
        "pycharm": {
          "name": "#%% md\n"
        },
        "id": "5WIDttq7KV7P"
      },
      "source": [
        "Array in ein großes DataFrame zusammenfassen."
      ]
    },
    {
      "cell_type": "code",
      "metadata": {
        "pycharm": {
          "name": "#%%\n"
        },
        "id": "uWEDOpvQKV7P",
        "outputId": "15951569-1769-4967-950f-23852bcea9e8",
        "colab": {
          "base_uri": "https://localhost:8080/"
        }
      },
      "source": [
        "nutrients_concat = pd.concat(nutrients)\n",
        "print(nutrients_concat.head())\n",
        "print(nutrients_concat.shape)"
      ],
      "execution_count": 16,
      "outputs": [
        {
          "output_type": "stream",
          "name": "stdout",
          "text": [
            "    value units                  description        group    id\n",
            "0   25.18     g                      Protein  Composition  1008\n",
            "1   29.20     g            Total lipid (fat)  Composition  1008\n",
            "2    3.06     g  Carbohydrate, by difference  Composition  1008\n",
            "3    3.28     g                          Ash        Other  1008\n",
            "4  376.00  kcal                       Energy       Energy  1008\n",
            "(389355, 5)\n"
          ]
        }
      ]
    },
    {
      "cell_type": "markdown",
      "metadata": {
        "collapsed": false,
        "pycharm": {
          "name": "#%% md\n"
        },
        "id": "b1-N59lgKV7P"
      },
      "source": [
        "Duplikate aus der Nutrients Tabelle entfernen."
      ]
    },
    {
      "cell_type": "code",
      "metadata": {
        "pycharm": {
          "name": "#%%\n"
        },
        "id": "2XEzQVPrKV7Q",
        "outputId": "44d5e3db-fb8b-4f16-c067-6edd843ec7d8",
        "colab": {
          "base_uri": "https://localhost:8080/"
        }
      },
      "source": [
        "nutrients_nodup = nutrients_concat.drop_duplicates()\n",
        "print(nutrients_nodup.head())\n",
        "print(nutrients_nodup.shape)"
      ],
      "execution_count": 17,
      "outputs": [
        {
          "output_type": "stream",
          "name": "stdout",
          "text": [
            "    value units                  description        group    id\n",
            "0   25.18     g                      Protein  Composition  1008\n",
            "1   29.20     g            Total lipid (fat)  Composition  1008\n",
            "2    3.06     g  Carbohydrate, by difference  Composition  1008\n",
            "3    3.28     g                          Ash        Other  1008\n",
            "4  376.00  kcal                       Energy       Energy  1008\n",
            "(375176, 5)\n"
          ]
        }
      ]
    },
    {
      "cell_type": "markdown",
      "metadata": {
        "collapsed": false,
        "pycharm": {
          "name": "#%% md\n"
        },
        "id": "25r-SCYiKV7Q"
      },
      "source": [
        "Spalten umbenennen, damit Tabellen zusammengeführt werden können."
      ]
    },
    {
      "cell_type": "code",
      "metadata": {
        "pycharm": {
          "name": "#%%\n"
        },
        "id": "XB-kjojMKV7Q",
        "outputId": "b19d09b3-68a7-48e3-e180-78d63ea29fca",
        "colab": {
          "base_uri": "https://localhost:8080/"
        }
      },
      "source": [
        "nutrients_clean = nutrients_nodup.rename(columns={\"description\" : \"nutrient_description\", \"group\" : \"nutrient_group\"})\n",
        "print(nutrients_clean.head())\n",
        "\n",
        "info_clean = info.rename(columns={\"description\" : \"info_description\", \"group\" : \"info_group\"})\n",
        "print(info_clean.head())"
      ],
      "execution_count": 18,
      "outputs": [
        {
          "output_type": "stream",
          "name": "stdout",
          "text": [
            "    value units         nutrient_description nutrient_group    id\n",
            "0   25.18     g                      Protein    Composition  1008\n",
            "1   29.20     g            Total lipid (fat)    Composition  1008\n",
            "2    3.06     g  Carbohydrate, by difference    Composition  1008\n",
            "3    3.28     g                          Ash          Other  1008\n",
            "4  376.00  kcal                       Energy         Energy  1008\n",
            "                     info_description  ... manufacturer\n",
            "0                     Cheese, caraway  ...             \n",
            "1                     Cheese, cheddar  ...             \n",
            "2                        Cheese, edam  ...             \n",
            "3                        Cheese, feta  ...             \n",
            "4  Cheese, mozzarella, part skim milk  ...             \n",
            "\n",
            "[5 rows x 4 columns]\n"
          ]
        }
      ]
    },
    {
      "cell_type": "markdown",
      "metadata": {
        "collapsed": false,
        "pycharm": {
          "name": "#%% md\n"
        },
        "id": "tEaMtsdFKV7Q"
      },
      "source": [
        "Einzelne Tabellen werden Zusammengeführt"
      ]
    },
    {
      "cell_type": "code",
      "metadata": {
        "pycharm": {
          "name": "#%%\n"
        },
        "id": "8l0OfA9MKV7R",
        "outputId": "af4f8ef7-fe65-4f9f-85bf-52abedb35670",
        "colab": {
          "base_uri": "https://localhost:8080/"
        }
      },
      "source": [
        "new_data = pd.merge(nutrients_clean, info_clean, on=\"id\", how=\"outer\")\n",
        "print(new_data.head())\n",
        "print(new_data.shape)"
      ],
      "execution_count": 19,
      "outputs": [
        {
          "output_type": "stream",
          "name": "stdout",
          "text": [
            "    value units  ...              info_group manufacturer\n",
            "0   25.18     g  ...  Dairy and Egg Products             \n",
            "1   29.20     g  ...  Dairy and Egg Products             \n",
            "2    3.06     g  ...  Dairy and Egg Products             \n",
            "3    3.28     g  ...  Dairy and Egg Products             \n",
            "4  376.00  kcal  ...  Dairy and Egg Products             \n",
            "\n",
            "[5 rows x 8 columns]\n",
            "(375176, 8)\n"
          ]
        }
      ]
    },
    {
      "cell_type": "markdown",
      "metadata": {
        "collapsed": false,
        "pycharm": {
          "name": "#%% md\n"
        },
        "id": "SO08KCMIKV7S"
      },
      "source": [
        "DataFrame, dass nur Einträge mit der nutient_description \"Zinc, Zn\" enthält."
      ]
    },
    {
      "cell_type": "code",
      "metadata": {
        "pycharm": {
          "name": "#%%\n"
        },
        "id": "_EDsTfhlKV7S",
        "outputId": "7adcee17-3d6d-4307-e609-487ec0ad33ad",
        "colab": {
          "base_uri": "https://localhost:8080/"
        }
      },
      "source": [
        "zinc_data = new_data[new_data[\"nutrient_description\"].str.contains(\"Zinc, Zn\")]\n",
        "print(zinc_data.head())"
      ],
      "execution_count": 20,
      "outputs": [
        {
          "output_type": "stream",
          "name": "stdout",
          "text": [
            "     value units  ...              info_group manufacturer\n",
            "14    2.94    mg  ...  Dairy and Egg Products             \n",
            "75    3.11    mg  ...  Dairy and Egg Products             \n",
            "151   3.75    mg  ...  Dairy and Egg Products             \n",
            "222   2.88    mg  ...  Dairy and Egg Products             \n",
            "293   2.76    mg  ...  Dairy and Egg Products             \n",
            "\n",
            "[5 rows x 8 columns]\n"
          ]
        }
      ]
    },
    {
      "cell_type": "markdown",
      "metadata": {
        "collapsed": false,
        "pycharm": {
          "name": "#%% md\n"
        },
        "id": "FJMd-Ey1KV7S"
      },
      "source": [
        "Zinkgehalt als Histogramm\n"
      ]
    },
    {
      "cell_type": "code",
      "metadata": {
        "pycharm": {
          "name": "#%%\n"
        },
        "id": "GT4eLhk1KV7S",
        "outputId": "f8a45f86-d4c7-4f52-bdc5-c002611e6f2c",
        "colab": {
          "base_uri": "https://localhost:8080/",
          "height": 357
        }
      },
      "source": [
        "import matplotlib.pyplot as plt\n",
        "zn_values = zinc_data[\"value\"]\n",
        "plt.hist(zn_values)"
      ],
      "execution_count": 22,
      "outputs": [
        {
          "output_type": "execute_result",
          "data": {
            "text/plain": [
              "(array([5.944e+03, 1.700e+02, 5.000e+00, 3.000e+00, 3.000e+00, 6.000e+00,\n",
              "        2.000e+00, 1.000e+00, 1.000e+00, 2.000e+00]),\n",
              " array([ 0.   ,  9.095, 18.19 , 27.285, 36.38 , 45.475, 54.57 , 63.665,\n",
              "        72.76 , 81.855, 90.95 ]),\n",
              " <a list of 10 Patch objects>)"
            ]
          },
          "metadata": {},
          "execution_count": 22
        },
        {
          "output_type": "display_data",
          "data": {
            "image/png": "[encoded data removed]",
            "text/plain": [
              "<Figure size 432x288 with 1 Axes>"
            ]
          },
          "metadata": {
            "needs_background": "light"
          }
        }
      ]
    },
    {
      "cell_type": "markdown",
      "metadata": {
        "collapsed": false,
        "pycharm": {
          "name": "#%% md\n"
        },
        "id": "fQpG5_G8KV7T"
      },
      "source": [
        "Grobe Beschreibung der Zinkenthaltenden Nahrungsmitteln."
      ]
    },
    {
      "cell_type": "code",
      "metadata": {
        "pycharm": {
          "name": "#%%\n"
        },
        "id": "4pDa4OusKV7T",
        "outputId": "e55f7eed-d4da-4f22-cf7d-9decee5db4c6",
        "colab": {
          "base_uri": "https://localhost:8080/"
        }
      },
      "source": [
        "zn_values.describe()"
      ],
      "execution_count": 23,
      "outputs": [
        {
          "output_type": "execute_result",
          "data": {
            "text/plain": [
              "count    6137.000000\n",
              "mean        2.228589\n",
              "std         3.975321\n",
              "min         0.000000\n",
              "25%         0.340000\n",
              "50%         0.980000\n",
              "75%         2.980000\n",
              "max        90.950000\n",
              "Name: value, dtype: float64"
            ]
          },
          "metadata": {},
          "execution_count": 23
        }
      ]
    },
    {
      "cell_type": "markdown",
      "metadata": {
        "collapsed": false,
        "pycharm": {
          "name": "#%% md\n"
        },
        "id": "ihuM8ALkKV7T"
      },
      "source": [
        "Edamer hat mehr Zink als das durchschnittliche Nahrungsmittel, das Zink enthält."
      ]
    },
    {
      "cell_type": "code",
      "metadata": {
        "pycharm": {
          "name": "#%%\n"
        },
        "id": "PacgO5pvKV7T",
        "outputId": "6540f323-53fb-4cc1-b91c-5c59bd9c7de3",
        "colab": {
          "base_uri": "https://localhost:8080/"
        }
      },
      "source": [
        "edamer = zinc_data[zinc_data[\"info_description\"].str.contains(\"Cheese, edam\")]\n",
        "edamer[\"value\"] > zn_values.mean()"
      ],
      "execution_count": 24,
      "outputs": [
        {
          "output_type": "execute_result",
          "data": {
            "text/plain": [
              "151    True\n",
              "Name: value, dtype: bool"
            ]
          },
          "metadata": {},
          "execution_count": 24
        }
      ]
    },
    {
      "cell_type": "markdown",
      "metadata": {
        "collapsed": false,
        "pycharm": {
          "name": "#%% md\n"
        },
        "id": "Npuaj7NEKV7T"
      },
      "source": [
        "Edamer hat mehr Zink als 75% der Nährstoffe, die Zink enthalten."
      ]
    },
    {
      "cell_type": "code",
      "metadata": {
        "pycharm": {
          "name": "#%%\n"
        },
        "id": "_a61dvESKV7U",
        "outputId": "b4e2fa5e-a558-4a15-8f98-b1fe375ebb5a",
        "colab": {
          "base_uri": "https://localhost:8080/"
        }
      },
      "source": [
        "count = 0\n",
        "for value in zn_values:\n",
        "    if edamer[\"value\"].item() > value:\n",
        "        count = count + 1\n",
        "\n",
        "count > len(zn_values)*0.75"
      ],
      "execution_count": 25,
      "outputs": [
        {
          "output_type": "execute_result",
          "data": {
            "text/plain": [
              "True"
            ]
          },
          "metadata": {},
          "execution_count": 25
        }
      ]
    },
    {
      "cell_type": "markdown",
      "metadata": {
        "collapsed": false,
        "pycharm": {
          "name": "#%% md\n"
        },
        "id": "32IJhy9jKV7U"
      },
      "source": [
        "Der Nährstoff mit dem Maximalen Zinkgehalt ist **Mollusks, oyster, eastern, canned** mit 90,95mg Zink"
      ]
    },
    {
      "cell_type": "code",
      "metadata": {
        "pycharm": {
          "name": "#%%\n"
        },
        "id": "G-6oRO7SKV7U",
        "outputId": "0640ea56-79d3-4e8d-fced-1872aee2eea6",
        "colab": {
          "base_uri": "https://localhost:8080/",
          "height": 81
        }
      },
      "source": [
        "zinc_data[zinc_data.value == zinc_data.value.max()]"
      ],
      "execution_count": 26,
      "outputs": [
        {
          "output_type": "execute_result",
          "data": {
            "text/html": [
              "<div>\n",
              "<style scoped>\n",
              "    .dataframe tbody tr th:only-of-type {\n",
              "        vertical-align: middle;\n",
              "    }\n",
              "\n",
              "    .dataframe tbody tr th {\n",
              "        vertical-align: top;\n",
              "    }\n",
              "\n",
              "    .dataframe thead th {\n",
              "        text-align: right;\n",
              "    }\n",
              "</style>\n",
              "<table border=\"1\" class=\"dataframe\">\n",
              "  <thead>\n",
              "    <tr style=\"text-align: right;\">\n",
              "      <th></th>\n",
              "      <th>value</th>\n",
              "      <th>units</th>\n",
              "      <th>nutrient_description</th>\n",
              "      <th>nutrient_group</th>\n",
              "      <th>id</th>\n",
              "      <th>info_description</th>\n",
              "      <th>info_group</th>\n",
              "      <th>manufacturer</th>\n",
              "    </tr>\n",
              "  </thead>\n",
              "  <tbody>\n",
              "    <tr>\n",
              "      <th>333726</th>\n",
              "      <td>90.95</td>\n",
              "      <td>mg</td>\n",
              "      <td>Zinc, Zn</td>\n",
              "      <td>Elements</td>\n",
              "      <td>15170</td>\n",
              "      <td>Mollusks, oyster, eastern, canned</td>\n",
              "      <td>Finfish and Shellfish Products</td>\n",
              "      <td></td>\n",
              "    </tr>\n",
              "  </tbody>\n",
              "</table>\n",
              "</div>"
            ],
            "text/plain": [
              "        value units  ...                      info_group manufacturer\n",
              "333726  90.95    mg  ...  Finfish and Shellfish Products             \n",
              "\n",
              "[1 rows x 8 columns]"
            ]
          },
          "metadata": {},
          "execution_count": 26
        }
      ]
    },
    {
      "cell_type": "code",
      "metadata": {
        "pycharm": {
          "name": "#%%\n"
        },
        "id": "rVcXQ1oBKV7U",
        "outputId": "8d1b1eb4-246a-44c1-c522-2c654a4bd751",
        "colab": {
          "base_uri": "https://localhost:8080/",
          "height": 190
        }
      },
      "source": [
        "%version_information numpy, pandas, matplotlib"
      ],
      "execution_count": 27,
      "outputs": [
        {
          "output_type": "execute_result",
          "data": {
            "text/latex": "\\begin{tabular}{|l|l|}\\hline\n{\\bf Software} & {\\bf Version} \\\\ \\hline\\hline\nPython & 3.7.12 64bit [GCC 7.5.0] \\\\ \\hline\nIPython & 5.5.0 \\\\ \\hline\nOS & Linux 5.4.104+ x86\\_64 with Ubuntu 18.04 bionic \\\\ \\hline\nnumpy & 1.19.5 \\\\ \\hline\npandas & 1.1.5 \\\\ \\hline\nmatplotlib & 3.2.2 \\\\ \\hline\n\\hline \\multicolumn{2}{|l|}{Fri Oct 22 09:09:54 2021 UTC} \\\\ \\hline\n\\end{tabular}\n",
            "application/json": {
              "Software versions": [
                {
                  "version": "3.7.12 64bit [GCC 7.5.0]",
                  "module": "Python"
                },
                {
                  "version": "5.5.0",
                  "module": "IPython"
                },
                {
                  "version": "Linux 5.4.104+ x86_64 with Ubuntu 18.04 bionic",
                  "module": "OS"
                },
                {
                  "version": "1.19.5",
                  "module": "numpy"
                },
                {
                  "version": "1.1.5",
                  "module": "pandas"
                },
                {
                  "version": "3.2.2",
                  "module": "matplotlib"
                }
              ]
            },
            "text/html": [
              "<table><tr><th>Software</th><th>Version</th></tr><tr><td>Python</td><td>3.7.12 64bit [GCC 7.5.0]</td></tr><tr><td>IPython</td><td>5.5.0</td></tr><tr><td>OS</td><td>Linux 5.4.104+ x86\\_64 with Ubuntu 18.04 bionic</td></tr><tr><td>numpy</td><td>1.19.5</td></tr><tr><td>pandas</td><td>1.1.5</td></tr><tr><td>matplotlib</td><td>3.2.2</td></tr><tr><td colspan='2'>Fri Oct 22 09:09:54 2021 UTC</td></tr></table>"
            ],
            "text/plain": [
              "Software versions\n",
              "Python 3.7.12 64bit [GCC 7.5.0]\n",
              "IPython 5.5.0\n",
              "OS Linux 5.4.104+ x86_64 with Ubuntu 18.04 bionic\n",
              "numpy 1.19.5\n",
              "pandas 1.1.5\n",
              "matplotlib 3.2.2\n",
              "Fri Oct 22 09:09:54 2021 UTC"
            ]
          },
          "metadata": {},
          "execution_count": 27
        }
      ]
    }
  ]
}