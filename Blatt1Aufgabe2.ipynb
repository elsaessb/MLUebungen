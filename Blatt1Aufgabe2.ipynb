{
 "cells": [
  {
   "cell_type": "markdown",
   "source": [
    "## Aufgabe 2"
   ],
   "metadata": {
    "collapsed": false,
    "pycharm": {
     "name": "#%% md\n"
    }
   }
  },
  {
   "cell_type": "code",
   "execution_count": 49,
   "outputs": [],
   "source": [
    "%load_ext version_information\n",
    "\n",
    "import zipfile\n",
    "import json\n",
    "filename_zip = \"foods-2011-10-03.json.zip\"\n",
    "filename_json = \"foods-2011-10-03.json\"\n",
    "\n",
    "archive = zipfile.ZipFile(filename_zip, 'r')\n",
    "file = archive.open(filename_json)\n",
    "\n",
    "data = json.load(file)"
   ],
   "metadata": {
    "collapsed": false,
    "pycharm": {
     "name": "#%%\n"
    }
   }
  },
  {
   "cell_type": "code",
   "execution_count": 50,
   "outputs": [
    {
     "data": {
      "text/plain": "6636"
     },
     "execution_count": 50,
     "metadata": {},
     "output_type": "execute_result"
    }
   ],
   "source": [
    "len(data)"
   ],
   "metadata": {
    "collapsed": false,
    "pycharm": {
     "name": "#%%\n"
    }
   }
  },
  {
   "cell_type": "markdown",
   "source": [
    "description und group kommen in beiden Dicts vor"
   ],
   "metadata": {
    "collapsed": false,
    "pycharm": {
     "name": "#%% md\n"
    }
   }
  },
  {
   "cell_type": "code",
   "execution_count": 51,
   "outputs": [
    {
     "data": {
      "text/plain": "dict_keys(['id', 'description', 'tags', 'manufacturer', 'group', 'portions', 'nutrients'])"
     },
     "execution_count": 51,
     "metadata": {},
     "output_type": "execute_result"
    }
   ],
   "source": [
    "data[500].keys()\n"
   ],
   "metadata": {
    "collapsed": false,
    "pycharm": {
     "name": "#%%\n"
    }
   }
  },
  {
   "cell_type": "code",
   "execution_count": 52,
   "outputs": [
    {
     "data": {
      "text/plain": "[{'value': 14.6,\n  'units': 'g',\n  'description': 'Protein',\n  'group': 'Composition'},\n {'value': 4.7,\n  'units': 'g',\n  'description': 'Total lipid (fat)',\n  'group': 'Composition'},\n {'value': 23.5,\n  'units': 'g',\n  'description': 'Carbohydrate, by difference',\n  'group': 'Composition'},\n {'value': 54.7, 'units': 'g', 'description': 'Ash', 'group': 'Other'},\n {'value': 198.0, 'units': 'kcal', 'description': 'Energy', 'group': 'Energy'},\n {'value': 2.5, 'units': 'g', 'description': 'Water', 'group': 'Composition'},\n {'value': 828.0, 'units': 'kJ', 'description': 'Energy', 'group': 'Energy'},\n {'value': 0.0,\n  'units': 'g',\n  'description': 'Sugars, total',\n  'group': 'Composition'},\n {'value': 0.0,\n  'units': 'g',\n  'description': 'Fiber, total dietary',\n  'group': 'Composition'},\n {'value': 190.0,\n  'units': 'mg',\n  'description': 'Calcium, Ca',\n  'group': 'Elements'},\n {'value': 1.87,\n  'units': 'mg',\n  'description': 'Iron, Fe',\n  'group': 'Elements'},\n {'value': 56.0,\n  'units': 'mg',\n  'description': 'Magnesium, Mg',\n  'group': 'Elements'},\n {'value': 191.0,\n  'units': 'mg',\n  'description': 'Phosphorus, P',\n  'group': 'Elements'},\n {'value': 374.0,\n  'units': 'mg',\n  'description': 'Potassium, K',\n  'group': 'Elements'},\n {'value': 24000.0,\n  'units': 'mg',\n  'description': 'Sodium, Na',\n  'group': 'Elements'},\n {'value': 0.2, 'units': 'mg', 'description': 'Zinc, Zn', 'group': 'Elements'},\n {'value': 0.0,\n  'units': 'mg',\n  'description': 'Copper, Cu',\n  'group': 'Elements'},\n {'value': 0.377,\n  'units': 'mg',\n  'description': 'Manganese, Mn',\n  'group': 'Elements'},\n {'value': 27.9,\n  'units': 'mcg',\n  'description': 'Selenium, Se',\n  'group': 'Elements'},\n {'value': 2.0,\n  'units': 'IU',\n  'description': 'Vitamin A, IU',\n  'group': 'Vitamins'},\n {'value': 0.0, 'units': 'mcg', 'description': 'Retinol', 'group': 'Vitamins'},\n {'value': 0.0,\n  'units': 'mcg_RAE',\n  'description': 'Vitamin A, RAE',\n  'group': 'Vitamins'},\n {'value': 0.0,\n  'units': 'mcg',\n  'description': 'Carotene, beta',\n  'group': 'Vitamins'},\n {'value': 0.0,\n  'units': 'mcg',\n  'description': 'Carotene, alpha',\n  'group': 'Vitamins'},\n {'value': 0.09,\n  'units': 'mg',\n  'description': 'Vitamin E (alpha-tocopherol)',\n  'group': 'Vitamins'},\n {'value': 0.0,\n  'units': 'mcg',\n  'description': 'Cryptoxanthin, beta',\n  'group': 'Vitamins'},\n {'value': 0.0,\n  'units': 'mcg',\n  'description': 'Lycopene',\n  'group': 'Vitamins'},\n {'value': 0.0,\n  'units': 'mcg',\n  'description': 'Lutein + zeaxanthin',\n  'group': 'Vitamins'},\n {'value': 1.0,\n  'units': 'mg',\n  'description': 'Vitamin C, total ascorbic acid',\n  'group': 'Vitamins'},\n {'value': 0.19, 'units': 'mg', 'description': 'Thiamin', 'group': 'Vitamins'},\n {'value': 0.38,\n  'units': 'mg',\n  'description': 'Riboflavin',\n  'group': 'Vitamins'},\n {'value': 3.9, 'units': 'mg', 'description': 'Niacin', 'group': 'Vitamins'},\n {'value': 0.6,\n  'units': 'mg',\n  'description': 'Pantothenic acid',\n  'group': 'Vitamins'},\n {'value': 0.1,\n  'units': 'mg',\n  'description': 'Vitamin B-6',\n  'group': 'Vitamins'},\n {'value': 32.0,\n  'units': 'mcg',\n  'description': 'Folate, total',\n  'group': 'Vitamins'},\n {'value': 0.3,\n  'units': 'mcg',\n  'description': 'Vitamin B-12',\n  'group': 'Vitamins'},\n {'value': 0.0,\n  'units': 'mcg',\n  'description': 'Vitamin K (phylloquinone)',\n  'group': 'Vitamins'},\n {'value': 0.0,\n  'units': 'mcg',\n  'description': 'Folic acid',\n  'group': 'Vitamins'},\n {'value': 32.0,\n  'units': 'mcg',\n  'description': 'Folate, food',\n  'group': 'Vitamins'},\n {'value': 32.0,\n  'units': 'mcg_DFE',\n  'description': 'Folate, DFE',\n  'group': 'Vitamins'},\n {'value': 13.0,\n  'units': 'mg',\n  'description': 'Cholesterol',\n  'group': 'Other'},\n {'value': 1.2,\n  'units': 'g',\n  'description': 'Fatty acids, total saturated',\n  'group': 'Other'},\n {'value': 1.92,\n  'units': 'g',\n  'description': 'Fatty acids, total monounsaturated',\n  'group': 'Other'},\n {'value': 1.62,\n  'units': 'g',\n  'description': 'Fatty acids, total polyunsaturated',\n  'group': 'Other'}]"
     },
     "execution_count": 52,
     "metadata": {},
     "output_type": "execute_result"
    }
   ],
   "source": [
    "data[500].get(\"nutrients\")\n"
   ],
   "metadata": {
    "collapsed": false,
    "pycharm": {
     "name": "#%%\n"
    }
   }
  },
  {
   "cell_type": "markdown",
   "source": [
    "Kopiere die Spalten **description**, **group**, **id** und **manufacturer** aus den Daten in ein eigenes DataFrame **info**"
   ],
   "metadata": {
    "collapsed": false,
    "pycharm": {
     "name": "#%% md\n"
    }
   }
  },
  {
   "cell_type": "code",
   "execution_count": 53,
   "outputs": [
    {
     "data": {
      "text/plain": "                          description                   group    id  \\\n0                     Cheese, caraway  Dairy and Egg Products  1008   \n1                     Cheese, cheddar  Dairy and Egg Products  1009   \n2                        Cheese, edam  Dairy and Egg Products  1018   \n3                        Cheese, feta  Dairy and Egg Products  1019   \n4  Cheese, mozzarella, part skim milk  Dairy and Egg Products  1028   \n\n  manufacturer  \n0               \n1               \n2               \n3               \n4               ",
      "text/html": "<div>\n<style scoped>\n    .dataframe tbody tr th:only-of-type {\n        vertical-align: middle;\n    }\n\n    .dataframe tbody tr th {\n        vertical-align: top;\n    }\n\n    .dataframe thead th {\n        text-align: right;\n    }\n</style>\n<table border=\"1\" class=\"dataframe\">\n  <thead>\n    <tr style=\"text-align: right;\">\n      <th></th>\n      <th>description</th>\n      <th>group</th>\n      <th>id</th>\n      <th>manufacturer</th>\n    </tr>\n  </thead>\n  <tbody>\n    <tr>\n      <th>0</th>\n      <td>Cheese, caraway</td>\n      <td>Dairy and Egg Products</td>\n      <td>1008</td>\n      <td></td>\n    </tr>\n    <tr>\n      <th>1</th>\n      <td>Cheese, cheddar</td>\n      <td>Dairy and Egg Products</td>\n      <td>1009</td>\n      <td></td>\n    </tr>\n    <tr>\n      <th>2</th>\n      <td>Cheese, edam</td>\n      <td>Dairy and Egg Products</td>\n      <td>1018</td>\n      <td></td>\n    </tr>\n    <tr>\n      <th>3</th>\n      <td>Cheese, feta</td>\n      <td>Dairy and Egg Products</td>\n      <td>1019</td>\n      <td></td>\n    </tr>\n    <tr>\n      <th>4</th>\n      <td>Cheese, mozzarella, part skim milk</td>\n      <td>Dairy and Egg Products</td>\n      <td>1028</td>\n      <td></td>\n    </tr>\n  </tbody>\n</table>\n</div>"
     },
     "execution_count": 53,
     "metadata": {},
     "output_type": "execute_result"
    }
   ],
   "source": [
    "import pandas as pd\n",
    "import numpy as np\n",
    "info = pd.DataFrame(data, columns=[\"description\",\"group\",\"id\",\"manufacturer\"])\n",
    "info.head()"
   ],
   "metadata": {
    "collapsed": false,
    "pycharm": {
     "name": "#%%\n"
    }
   }
  },
  {
   "cell_type": "markdown",
   "source": [
    "Array mit einzelnen DataFrames von Nutrients erstellen."
   ],
   "metadata": {
    "collapsed": false,
    "pycharm": {
     "name": "#%% md\n"
    }
   }
  },
  {
   "cell_type": "code",
   "execution_count": 54,
   "outputs": [
    {
     "name": "stdout",
     "output_type": "stream",
     "text": [
      "    value units                  description        group    id\n",
      "0   24.90     g                      Protein  Composition  1009\n",
      "1   33.14     g            Total lipid (fat)  Composition  1009\n",
      "2    1.28     g  Carbohydrate, by difference  Composition  1009\n",
      "3    3.93     g                          Ash        Other  1009\n",
      "4  403.00  kcal                       Energy       Energy  1009\n"
     ]
    }
   ],
   "source": [
    "nutrients_list = []\n",
    "index = 0\n",
    "for elem in data:\n",
    "    data_frame = pd.DataFrame(elem.get(\"nutrients\"))\n",
    "    head = [elem.get(\"id\")] * len(data_frame)\n",
    "    data_frame[\"id\"] = head\n",
    "    nutrients_list.append(data_frame)\n",
    "\n",
    "nutrients = np.asarray(nutrients_list, dtype=object)\n",
    "print(nutrients[1].head())"
   ],
   "metadata": {
    "collapsed": false,
    "pycharm": {
     "name": "#%%\n"
    }
   }
  },
  {
   "cell_type": "markdown",
   "source": [
    "Array in ein großes DataFrame zusammenfassen."
   ],
   "metadata": {
    "collapsed": false,
    "pycharm": {
     "name": "#%% md\n"
    }
   }
  },
  {
   "cell_type": "code",
   "execution_count": 55,
   "outputs": [
    {
     "name": "stdout",
     "output_type": "stream",
     "text": [
      "    value units                  description        group    id\n",
      "0   25.18     g                      Protein  Composition  1008\n",
      "1   29.20     g            Total lipid (fat)  Composition  1008\n",
      "2    3.06     g  Carbohydrate, by difference  Composition  1008\n",
      "3    3.28     g                          Ash        Other  1008\n",
      "4  376.00  kcal                       Energy       Energy  1008\n",
      "(389355, 5)\n"
     ]
    }
   ],
   "source": [
    "nutrients_concat = pd.concat(nutrients)\n",
    "print(nutrients_concat.head())\n",
    "print(nutrients_concat.shape)"
   ],
   "metadata": {
    "collapsed": false,
    "pycharm": {
     "name": "#%%\n"
    }
   }
  },
  {
   "cell_type": "markdown",
   "source": [
    "Duplikate aus der Nutrients Tabelle entfernen."
   ],
   "metadata": {
    "collapsed": false,
    "pycharm": {
     "name": "#%% md\n"
    }
   }
  },
  {
   "cell_type": "code",
   "execution_count": 56,
   "outputs": [
    {
     "name": "stdout",
     "output_type": "stream",
     "text": [
      "    value units                  description        group    id\n",
      "0   25.18     g                      Protein  Composition  1008\n",
      "1   29.20     g            Total lipid (fat)  Composition  1008\n",
      "2    3.06     g  Carbohydrate, by difference  Composition  1008\n",
      "3    3.28     g                          Ash        Other  1008\n",
      "4  376.00  kcal                       Energy       Energy  1008\n",
      "(375176, 5)\n"
     ]
    }
   ],
   "source": [
    "nutrients_nodup = nutrients_concat.drop_duplicates()\n",
    "print(nutrients_nodup.head())\n",
    "print(nutrients_nodup.shape)"
   ],
   "metadata": {
    "collapsed": false,
    "pycharm": {
     "name": "#%%\n"
    }
   }
  },
  {
   "cell_type": "markdown",
   "source": [
    "Spalten umbenennen, damit Tabellen zusammengeführt werden können."
   ],
   "metadata": {
    "collapsed": false,
    "pycharm": {
     "name": "#%% md\n"
    }
   }
  },
  {
   "cell_type": "code",
   "execution_count": 57,
   "outputs": [
    {
     "name": "stdout",
     "output_type": "stream",
     "text": [
      "    value units         nutrient_description nutrient_group    id\n",
      "0   25.18     g                      Protein    Composition  1008\n",
      "1   29.20     g            Total lipid (fat)    Composition  1008\n",
      "2    3.06     g  Carbohydrate, by difference    Composition  1008\n",
      "3    3.28     g                          Ash          Other  1008\n",
      "4  376.00  kcal                       Energy         Energy  1008\n",
      "                     info_description              info_group    id  \\\n",
      "0                     Cheese, caraway  Dairy and Egg Products  1008   \n",
      "1                     Cheese, cheddar  Dairy and Egg Products  1009   \n",
      "2                        Cheese, edam  Dairy and Egg Products  1018   \n",
      "3                        Cheese, feta  Dairy and Egg Products  1019   \n",
      "4  Cheese, mozzarella, part skim milk  Dairy and Egg Products  1028   \n",
      "\n",
      "  manufacturer  \n",
      "0               \n",
      "1               \n",
      "2               \n",
      "3               \n",
      "4               \n"
     ]
    }
   ],
   "source": [
    "nutrients_clean = nutrients_nodup.rename(columns={\"description\" : \"nutrient_description\", \"group\" : \"nutrient_group\"})\n",
    "print(nutrients_clean.head())\n",
    "\n",
    "info_clean = info.rename(columns={\"description\" : \"info_description\", \"group\" : \"info_group\"})\n",
    "print(info_clean.head())"
   ],
   "metadata": {
    "collapsed": false,
    "pycharm": {
     "name": "#%%\n"
    }
   }
  },
  {
   "cell_type": "markdown",
   "source": [
    "Einzelne Tabellen werden Zusammengeführt"
   ],
   "metadata": {
    "collapsed": false,
    "pycharm": {
     "name": "#%% md\n"
    }
   }
  },
  {
   "cell_type": "code",
   "execution_count": 58,
   "outputs": [
    {
     "name": "stdout",
     "output_type": "stream",
     "text": [
      "    value units         nutrient_description nutrient_group    id  \\\n",
      "0   25.18     g                      Protein    Composition  1008   \n",
      "1   29.20     g            Total lipid (fat)    Composition  1008   \n",
      "2    3.06     g  Carbohydrate, by difference    Composition  1008   \n",
      "3    3.28     g                          Ash          Other  1008   \n",
      "4  376.00  kcal                       Energy         Energy  1008   \n",
      "\n",
      "  info_description              info_group manufacturer  \n",
      "0  Cheese, caraway  Dairy and Egg Products               \n",
      "1  Cheese, caraway  Dairy and Egg Products               \n",
      "2  Cheese, caraway  Dairy and Egg Products               \n",
      "3  Cheese, caraway  Dairy and Egg Products               \n",
      "4  Cheese, caraway  Dairy and Egg Products               \n",
      "(375176, 8)\n"
     ]
    }
   ],
   "source": [
    "new_data = pd.merge(nutrients_clean, info_clean, on=\"id\", how=\"outer\")\n",
    "print(new_data.head())\n",
    "print(new_data.shape)"
   ],
   "metadata": {
    "collapsed": false,
    "pycharm": {
     "name": "#%%\n"
    }
   }
  },
  {
   "cell_type": "markdown",
   "source": [
    "DataFrame, dass nur Einträge mit der nutient_description \"Zinc, Zn\" enthält."
   ],
   "metadata": {
    "collapsed": false,
    "pycharm": {
     "name": "#%% md\n"
    }
   }
  },
  {
   "cell_type": "code",
   "execution_count": 59,
   "outputs": [
    {
     "name": "stdout",
     "output_type": "stream",
     "text": [
      "     value units nutrient_description nutrient_group    id  \\\n",
      "14    2.94    mg             Zinc, Zn       Elements  1008   \n",
      "75    3.11    mg             Zinc, Zn       Elements  1009   \n",
      "151   3.75    mg             Zinc, Zn       Elements  1018   \n",
      "222   2.88    mg             Zinc, Zn       Elements  1019   \n",
      "293   2.76    mg             Zinc, Zn       Elements  1028   \n",
      "\n",
      "                       info_description              info_group manufacturer  \n",
      "14                      Cheese, caraway  Dairy and Egg Products               \n",
      "75                      Cheese, cheddar  Dairy and Egg Products               \n",
      "151                        Cheese, edam  Dairy and Egg Products               \n",
      "222                        Cheese, feta  Dairy and Egg Products               \n",
      "293  Cheese, mozzarella, part skim milk  Dairy and Egg Products               \n"
     ]
    }
   ],
   "source": [
    "zinc_data = new_data[new_data[\"nutrient_description\"].str.contains(\"Zinc, Zn\")]\n",
    "print(zinc_data.head())"
   ],
   "metadata": {
    "collapsed": false,
    "pycharm": {
     "name": "#%%\n"
    }
   }
  },
  {
   "cell_type": "markdown",
   "source": [],
   "metadata": {
    "collapsed": false,
    "pycharm": {
     "name": "#%% md\n"
    }
   }
  },
  {
   "cell_type": "code",
   "execution_count": 60,
   "outputs": [
    {
     "data": {
      "text/plain": "(array([5.944e+03, 1.700e+02, 5.000e+00, 3.000e+00, 3.000e+00, 6.000e+00,\n        2.000e+00, 1.000e+00, 1.000e+00, 2.000e+00]),\n array([ 0.   ,  9.095, 18.19 , 27.285, 36.38 , 45.475, 54.57 , 63.665,\n        72.76 , 81.855, 90.95 ]),\n <BarContainer object of 10 artists>)"
     },
     "execution_count": 60,
     "metadata": {},
     "output_type": "execute_result"
    },
    {
     "data": {
      "text/plain": "<Figure size 432x288 with 1 Axes>",
      "image/png": "[encoded data removed]"
     },
     "metadata": {
      "needs_background": "light"
     },
     "output_type": "display_data"
    }
   ],
   "source": [
    "import matplotlib.pyplot as plt\n",
    "zn_values = zinc_data[\"value\"]\n",
    "plt.hist(zn_values)"
   ],
   "metadata": {
    "collapsed": false,
    "pycharm": {
     "name": "#%%\n"
    }
   }
  },
  {
   "cell_type": "markdown",
   "source": [
    "Grobe Beschreibung der Zinkenthaltenden Nahrungsmitteln."
   ],
   "metadata": {
    "collapsed": false,
    "pycharm": {
     "name": "#%% md\n"
    }
   }
  },
  {
   "cell_type": "code",
   "execution_count": 61,
   "outputs": [
    {
     "data": {
      "text/plain": "count    6137.000000\nmean        2.228589\nstd         3.975321\nmin         0.000000\n25%         0.340000\n50%         0.980000\n75%         2.980000\nmax        90.950000\nName: value, dtype: float64"
     },
     "execution_count": 61,
     "metadata": {},
     "output_type": "execute_result"
    }
   ],
   "source": [
    "zn_values.describe()"
   ],
   "metadata": {
    "collapsed": false,
    "pycharm": {
     "name": "#%%\n"
    }
   }
  },
  {
   "cell_type": "markdown",
   "source": [
    "Edamer hat mehr Zink als das durchschnittliche Nahrungsmittel, das Zink enthält."
   ],
   "metadata": {
    "collapsed": false,
    "pycharm": {
     "name": "#%% md\n"
    }
   }
  },
  {
   "cell_type": "code",
   "execution_count": 62,
   "outputs": [
    {
     "data": {
      "text/plain": "151    True\nName: value, dtype: bool"
     },
     "execution_count": 62,
     "metadata": {},
     "output_type": "execute_result"
    }
   ],
   "source": [
    "edamer = zinc_data[zinc_data[\"info_description\"].str.contains(\"Cheese, edam\")]\n",
    "edamer[\"value\"] > zn_values.mean()"
   ],
   "metadata": {
    "collapsed": false,
    "pycharm": {
     "name": "#%%\n"
    }
   }
  },
  {
   "cell_type": "markdown",
   "source": [
    "Edamer hat mehr Zink als 75% der Nährstoffe, die Zink enthalten."
   ],
   "metadata": {
    "collapsed": false,
    "pycharm": {
     "name": "#%% md\n"
    }
   }
  },
  {
   "cell_type": "code",
   "execution_count": 63,
   "outputs": [
    {
     "data": {
      "text/plain": "True"
     },
     "execution_count": 63,
     "metadata": {},
     "output_type": "execute_result"
    }
   ],
   "source": [
    "count = 0\n",
    "for value in zn_values:\n",
    "    if edamer[\"value\"].item() > value:\n",
    "        count = count + 1\n",
    "\n",
    "count > len(zn_values)*0.75"
   ],
   "metadata": {
    "collapsed": false,
    "pycharm": {
     "name": "#%%\n"
    }
   }
  },
  {
   "cell_type": "markdown",
   "source": [
    "Der Nährstoff mit dem Maximalen Zinkgehalt ist **Mollusks, oyster, eastern, canned** mit 90,95mg Zink"
   ],
   "metadata": {
    "collapsed": false,
    "pycharm": {
     "name": "#%% md\n"
    }
   }
  },
  {
   "cell_type": "code",
   "execution_count": 1,
   "outputs": [
    {
     "ename": "NameError",
     "evalue": "name 'zinc_data' is not defined",
     "output_type": "error",
     "traceback": [
      "\u001B[0;31m---------------------------------------------------------------------------\u001B[0m",
      "\u001B[0;31mNameError\u001B[0m                                 Traceback (most recent call last)",
      "\u001B[0;32m/tmp/ipykernel_6377/1872710503.py\u001B[0m in \u001B[0;36m<module>\u001B[0;34m\u001B[0m\n\u001B[0;32m----> 1\u001B[0;31m \u001B[0mzinc_data\u001B[0m\u001B[0;34m[\u001B[0m\u001B[0mzinc_data\u001B[0m\u001B[0;34m.\u001B[0m\u001B[0mvalue\u001B[0m \u001B[0;34m==\u001B[0m \u001B[0mzinc_data\u001B[0m\u001B[0;34m.\u001B[0m\u001B[0mvalue\u001B[0m\u001B[0;34m.\u001B[0m\u001B[0mmax\u001B[0m\u001B[0;34m(\u001B[0m\u001B[0;34m)\u001B[0m\u001B[0;34m]\u001B[0m\u001B[0;34m\u001B[0m\u001B[0;34m\u001B[0m\u001B[0m\n\u001B[0m",
      "\u001B[0;31mNameError\u001B[0m: name 'zinc_data' is not defined"
     ]
    }
   ],
   "source": [
    "zinc_data[zinc_data.value == zinc_data.value.max()]"
   ],
   "metadata": {
    "collapsed": false,
    "pycharm": {
     "name": "#%%\n"
    }
   }
  },
  {
   "cell_type": "code",
   "execution_count": 6,
   "outputs": [
    {
     "data": {
      "text/plain": "Software versions\nPython 3.9.7 64bit [GCC 7.5.0]\nIPython 7.27.0\nOS Linux 5.11.0 37 generic x86_64 with glibc2.31\nnumpy 1.21.2\npandas 1.3.3\nmatplotlib 3.4.2\nThu Oct 21 09:41:29 2021 CEST",
      "text/html": "<table><tr><th>Software</th><th>Version</th></tr><tr><td>Python</td><td>3.9.7 64bit [GCC 7.5.0]</td></tr><tr><td>IPython</td><td>7.27.0</td></tr><tr><td>OS</td><td>Linux 5.11.0 37 generic x86\\_64 with glibc2.31</td></tr><tr><td>numpy</td><td>1.21.2</td></tr><tr><td>pandas</td><td>1.3.3</td></tr><tr><td>matplotlib</td><td>3.4.2</td></tr><tr><td colspan='2'>Thu Oct 21 09:41:29 2021 CEST</td></tr></table>",
      "text/latex": "\\begin{tabular}{|l|l|}\\hline\n{\\bf Software} & {\\bf Version} \\\\ \\hline\\hline\nPython & 3.9.7 64bit [GCC 7.5.0] \\\\ \\hline\nIPython & 7.27.0 \\\\ \\hline\nOS & Linux 5.11.0 37 generic x86\\_64 with glibc2.31 \\\\ \\hline\nnumpy & 1.21.2 \\\\ \\hline\npandas & 1.3.3 \\\\ \\hline\nmatplotlib & 3.4.2 \\\\ \\hline\n\\hline \\multicolumn{2}{|l|}{Thu Oct 21 09:41:29 2021 CEST} \\\\ \\hline\n\\end{tabular}\n",
      "application/json": {
       "Software versions": [
        {
         "module": "Python",
         "version": "3.9.7 64bit [GCC 7.5.0]"
        },
        {
         "module": "IPython",
         "version": "7.27.0"
        },
        {
         "module": "OS",
         "version": "Linux 5.11.0 37 generic x86_64 with glibc2.31"
        },
        {
         "module": "numpy",
         "version": "1.21.2"
        },
        {
         "module": "pandas",
         "version": "1.3.3"
        },
        {
         "module": "matplotlib",
         "version": "3.4.2"
        }
       ]
      }
     },
     "execution_count": 6,
     "metadata": {},
     "output_type": "execute_result"
    }
   ],
   "source": [
    "%version_information numpy, pandas, matplotlib"
   ],
   "metadata": {
    "collapsed": false,
    "pycharm": {
     "name": "#%%\n"
    }
   }
  }
 ],
 "metadata": {
  "kernelspec": {
   "display_name": "Python 3",
   "language": "python",
   "name": "python3"
  },
  "language_info": {
   "codemirror_mode": {
    "name": "ipython",
    "version": 2
   },
   "file_extension": ".py",
   "mimetype": "text/x-python",
   "name": "python",
   "nbconvert_exporter": "python",
   "pygments_lexer": "ipython2",
   "version": "2.7.6"
  }
 },
 "nbformat": 4,
 "nbformat_minor": 0
}
